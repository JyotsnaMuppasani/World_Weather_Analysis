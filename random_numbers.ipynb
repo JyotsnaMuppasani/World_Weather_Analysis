{
 "cells": [
  {
   "cell_type": "code",
   "execution_count": 1,
   "id": "d71e5cdc",
   "metadata": {},
   "outputs": [],
   "source": [
    "import random\n"
   ]
  },
  {
   "cell_type": "code",
   "execution_count": 2,
   "id": "e38cab1b",
   "metadata": {},
   "outputs": [
    {
     "data": {
      "text/plain": [
       "34"
      ]
     },
     "execution_count": 2,
     "metadata": {},
     "output_type": "execute_result"
    }
   ],
   "source": [
    "random.randint(-90,90)"
   ]
  },
  {
   "cell_type": "code",
   "execution_count": 3,
   "id": "9530dd5f",
   "metadata": {},
   "outputs": [
    {
     "data": {
      "text/plain": [
       "0.418761850788123"
      ]
     },
     "execution_count": 3,
     "metadata": {},
     "output_type": "execute_result"
    }
   ],
   "source": [
    "random.random()"
   ]
  },
  {
   "cell_type": "code",
   "execution_count": 4,
   "id": "28196b5d",
   "metadata": {},
   "outputs": [
    {
     "data": {
      "text/plain": [
       "32.21745929408686"
      ]
     },
     "execution_count": 4,
     "metadata": {},
     "output_type": "execute_result"
    }
   ],
   "source": [
    "random_number = random.randint(-90,89) + random.random()\n",
    "random_number"
   ]
  },
  {
   "cell_type": "code",
   "execution_count": 5,
   "id": "9ed19636",
   "metadata": {},
   "outputs": [
    {
     "data": {
      "text/plain": [
       "[-35.29085546574238,\n",
       " 68.7444062616236,\n",
       " -67.40796528709929,\n",
       " 17.17827898369076,\n",
       " 77.83797924404408,\n",
       " -4.064899376996717,\n",
       " 80.02774872246117,\n",
       " -29.665047249243496,\n",
       " 86.85907339908876,\n",
       " 38.3361113383388]"
      ]
     },
     "execution_count": 5,
     "metadata": {},
     "output_type": "execute_result"
    }
   ],
   "source": [
    "x = 1\n",
    "latitudes = []\n",
    "\n",
    "while x < 11:\n",
    "    random_lat = random.randint(-90, 89) + random.random()\n",
    "    latitudes.append(random_lat)\n",
    "    x += 1\n",
    "    \n",
    "latitudes"
   ]
  },
  {
   "cell_type": "code",
   "execution_count": 6,
   "id": "35960e7f",
   "metadata": {},
   "outputs": [
    {
     "data": {
      "text/plain": [
       "-78"
      ]
     },
     "execution_count": 6,
     "metadata": {},
     "output_type": "execute_result"
    }
   ],
   "source": [
    "random.randrange(-90, 90, step=1)"
   ]
  },
  {
   "cell_type": "code",
   "execution_count": 7,
   "id": "c0d43108",
   "metadata": {},
   "outputs": [
    {
     "data": {
      "text/plain": [
       "75"
      ]
     },
     "execution_count": 7,
     "metadata": {},
     "output_type": "execute_result"
    }
   ],
   "source": [
    "random.randrange(-90, 90, step=3)"
   ]
  },
  {
   "cell_type": "code",
   "execution_count": 8,
   "id": "d8704ad8",
   "metadata": {},
   "outputs": [
    {
     "data": {
      "text/plain": [
       "-77.93853803453987"
      ]
     },
     "execution_count": 8,
     "metadata": {},
     "output_type": "execute_result"
    }
   ],
   "source": [
    "random.randrange(-90, 90) + random.random()"
   ]
  },
  {
   "cell_type": "code",
   "execution_count": 9,
   "id": "e0bc274c",
   "metadata": {},
   "outputs": [
    {
     "data": {
      "text/plain": [
       "70.93908263501348"
      ]
     },
     "execution_count": 9,
     "metadata": {},
     "output_type": "execute_result"
    }
   ],
   "source": [
    "random.uniform(-90, 90)"
   ]
  },
  {
   "cell_type": "code",
   "execution_count": 10,
   "id": "411b5762",
   "metadata": {},
   "outputs": [],
   "source": [
    "import numpy as np"
   ]
  },
  {
   "cell_type": "code",
   "execution_count": 11,
   "id": "90115bce",
   "metadata": {},
   "outputs": [
    {
     "data": {
      "text/plain": [
       "88.23767607114385"
      ]
     },
     "execution_count": 11,
     "metadata": {},
     "output_type": "execute_result"
    }
   ],
   "source": [
    "np.random.uniform(low=-90, high=90)"
   ]
  },
  {
   "cell_type": "code",
   "execution_count": 12,
   "id": "f6921261",
   "metadata": {},
   "outputs": [
    {
     "data": {
      "text/plain": [
       "array([ 32.51245356,  78.40717858, -87.22105914,  -9.84089298,\n",
       "       -39.39157427,  -2.95755475, -10.47937587,  67.35034278,\n",
       "        36.1312849 , -64.18952749, -23.51649937, -43.49781512,\n",
       "        43.09097211, -74.64571783, -45.2865753 , -71.02053702,\n",
       "       -81.83599736,  11.00088873, -42.75418831, -57.17914986,\n",
       "         2.28574172,  20.66507863, -66.13313233, -80.25402021,\n",
       "        23.33189649, -31.85445237, -70.69119854,  66.8981442 ,\n",
       "        72.20223394,  87.69949854, -47.45471483,  52.07777576,\n",
       "        41.70852678,  -7.72554606,  47.4732161 ,  89.16593691,\n",
       "       -33.62455593,  36.15801419,  86.91608577, -72.79801818,\n",
       "        58.33334264, -76.8155525 ,  -2.58227016,  63.58361335,\n",
       "         2.11300097,  89.92997245, -10.72176179, -35.18087489,\n",
       "       -51.11831147, -68.52020154])"
      ]
     },
     "execution_count": 12,
     "metadata": {},
     "output_type": "execute_result"
    }
   ],
   "source": [
    "np.random.uniform(-90.000, 90.000, size=50)"
   ]
  },
  {
   "cell_type": "code",
   "execution_count": 13,
   "id": "9e444b72",
   "metadata": {},
   "outputs": [],
   "source": [
    "import timeit\n"
   ]
  },
  {
   "cell_type": "code",
   "execution_count": 14,
   "id": "321732fa",
   "metadata": {},
   "outputs": [
    {
     "name": "stdout",
     "output_type": "stream",
     "text": [
      "12.6 µs ± 42.4 ns per loop (mean ± std. dev. of 7 runs, 100,000 loops each)\n"
     ]
    }
   ],
   "source": [
    "%timeit np.random.uniform(-90.000, 90.000, size=1500)"
   ]
  },
  {
   "cell_type": "code",
   "execution_count": 15,
   "id": "e5e9b5ed",
   "metadata": {},
   "outputs": [
    {
     "name": "stdout",
     "output_type": "stream",
     "text": [
      "1.31 ms ± 35.6 µs per loop (mean ± std. dev. of 7 runs, 1,000 loops each)\n"
     ]
    }
   ],
   "source": [
    "def latitudes(size):\n",
    "    latitudes = []\n",
    "    x = 0\n",
    "    while x < (size):\n",
    "        random_lat = random.randint(-90, 90) + random.random()\n",
    "        latitudes.append(random_lat)\n",
    "        x += 1\n",
    "    return latitudes\n",
    "# Call the function with 1500.\n",
    "%timeit latitudes(1500)"
   ]
  },
  {
   "cell_type": "code",
   "execution_count": 22,
   "id": "af38d6f2",
   "metadata": {},
   "outputs": [
    {
     "data": {
      "text/plain": [
       "array([-54.00778329, -22.35468516, -68.23532932, ..., -41.58301628,\n",
       "       -56.25974246,   2.84221797])"
      ]
     },
     "execution_count": 22,
     "metadata": {},
     "output_type": "execute_result"
    }
   ],
   "source": [
    "np.random.uniform(-90.000, 90.000, size=1500)"
   ]
  },
  {
   "cell_type": "code",
   "execution_count": null,
   "id": "7eddf349",
   "metadata": {},
   "outputs": [],
   "source": []
  }
 ],
 "metadata": {
  "kernelspec": {
   "display_name": "Python 3 (ipykernel)",
   "language": "python",
   "name": "python3"
  },
  "language_info": {
   "codemirror_mode": {
    "name": "ipython",
    "version": 3
   },
   "file_extension": ".py",
   "mimetype": "text/x-python",
   "name": "python",
   "nbconvert_exporter": "python",
   "pygments_lexer": "ipython3",
   "version": "3.9.12"
  }
 },
 "nbformat": 4,
 "nbformat_minor": 5
}
